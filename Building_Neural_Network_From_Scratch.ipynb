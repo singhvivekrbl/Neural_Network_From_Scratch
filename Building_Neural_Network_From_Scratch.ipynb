{
 "cells": [
  {
   "cell_type": "markdown",
   "metadata": {},
   "source": [
    "### Build and train a basic CNN (with max 3 hidden layers)\n",
    "\n",
    "You can use Tensorflow, Pytorch or Keras as a deep learning framework. Decide your CNN architecture:\n",
    "- How many input neurons are there? - What activation function will you choose? \n",
    "- What is the number of hidden layers? (1, 2 or 3?)\n",
    "- What is the kernel size, number of filters, strides, paddings, etc? \n",
    "- What activation function is used for the hidden and output layer?"
   ]
  },
  {
   "cell_type": "code",
   "execution_count": 1,
   "metadata": {},
   "outputs": [],
   "source": [
    "import numpy as np\n",
    "import pandas as pd\n",
    "import matplotlib.pyplot as plt\n",
    "%matplotlib inline\n",
    "\n",
    "import warnings\n",
    "warnings.filterwarnings('ignore')\n",
    "\n",
    "import tensorflow as tf\n",
    "from tensorflow import keras"
   ]
  },
  {
   "cell_type": "markdown",
   "metadata": {},
   "source": [
    "#### Load, and preprocess the data"
   ]
  },
  {
   "cell_type": "code",
   "execution_count": 2,
   "metadata": {},
   "outputs": [],
   "source": [
    "## using kearas api to call the fashion mnist data\n",
    "\n",
    "df = tf.keras.datasets.fashion_mnist"
   ]
  },
  {
   "cell_type": "code",
   "execution_count": 3,
   "metadata": {},
   "outputs": [],
   "source": [
    "\n",
    "(X_train, y_train), (X_test, y_test) = df.load_data()"
   ]
  },
  {
   "cell_type": "code",
   "execution_count": 4,
   "metadata": {},
   "outputs": [
    {
     "name": "stdout",
     "output_type": "stream",
     "text": [
      "Type of the X_train data:  <class 'numpy.ndarray'>\n",
      "Type of the y_train data:  <class 'numpy.ndarray'>\n"
     ]
    }
   ],
   "source": [
    "print(\"Type of the X_train data: \", type(X_train) )\n",
    "print(\"Type of the y_train data: \", type(y_train) )"
   ]
  },
  {
   "cell_type": "code",
   "execution_count": 5,
   "metadata": {},
   "outputs": [
    {
     "name": "stdout",
     "output_type": "stream",
     "text": [
      "Shape of the X_train and y_train (60000, 28, 28) (60000,)\n",
      "Shape of the X_test and y_test (10000, 28, 28) (10000,)\n"
     ]
    }
   ],
   "source": [
    "print(\"Shape of the X_train and y_train\",X_train.shape, y_train.shape)\n",
    "print(\"Shape of the X_test and y_test\",X_test.shape, y_test.shape)"
   ]
  },
  {
   "cell_type": "markdown",
   "metadata": {},
   "source": [
    "##### Now reshape the data in useable format and normalize it by dividing 255"
   ]
  },
  {
   "cell_type": "code",
   "execution_count": 6,
   "metadata": {},
   "outputs": [],
   "source": [
    "X_train=X_train.reshape(60000, 28, 28, 1)\n",
    "X_test = X_test.reshape(10000, 28, 28, 1)\n"
   ]
  },
  {
   "cell_type": "code",
   "execution_count": 7,
   "metadata": {},
   "outputs": [],
   "source": [
    "X_train=X_train / 255\n",
    "X_test=X_test/255"
   ]
  },
  {
   "cell_type": "code",
   "execution_count": 8,
   "metadata": {},
   "outputs": [
    {
     "data": {
      "text/plain": [
       "<matplotlib.image.AxesImage at 0x1c921b28880>"
      ]
     },
     "execution_count": 8,
     "metadata": {},
     "output_type": "execute_result"
    },
    {
     "data": {
      "image/png": "[encoded data removed]",
      "text/plain": [
       "<Figure size 432x288 with 1 Axes>"
      ]
     },
     "metadata": {
      "needs_background": "light"
     },
     "output_type": "display_data"
    }
   ],
   "source": [
    "plt.figure()\n",
    "plt.imshow(X_train[10])"
   ]
  },
  {
   "cell_type": "code",
   "execution_count": 9,
   "metadata": {},
   "outputs": [
    {
     "data": {
      "text/plain": [
       "<matplotlib.image.AxesImage at 0x1c926b86b60>"
      ]
     },
     "execution_count": 9,
     "metadata": {},
     "output_type": "execute_result"
    },
    {
     "data": {
      "image/png": "[encoded data removed]",
      "text/plain": [
       "<Figure size 432x288 with 1 Axes>"
      ]
     },
     "metadata": {
      "needs_background": "light"
     },
     "output_type": "display_data"
    }
   ],
   "source": [
    "plt.figure()\n",
    "plt.imshow(X_train[45])"
   ]
  },
  {
   "cell_type": "code",
   "execution_count": 10,
   "metadata": {},
   "outputs": [
    {
     "data": {
      "text/plain": [
       "<matplotlib.image.AxesImage at 0x1c926bfdcc0>"
      ]
     },
     "execution_count": 10,
     "metadata": {},
     "output_type": "execute_result"
    },
    {
     "data": {
      "image/png": "[encoded data removed]",
      "text/plain": [
       "<Figure size 432x288 with 1 Axes>"
      ]
     },
     "metadata": {
      "needs_background": "light"
     },
     "output_type": "display_data"
    }
   ],
   "source": [
    "plt.figure()\n",
    "plt.imshow(X_train[0])"
   ]
  },
  {
   "cell_type": "code",
   "execution_count": 29,
   "metadata": {},
   "outputs": [],
   "source": [
    "filter_size = 28\n",
    "kernal_size_num = 5\n",
    "input_size = (28,28,1)\n",
    "strides_size = 1\n",
    "padding_size = \"same\"\n",
    "activation_layer = \"relu\""
   ]
  },
  {
   "cell_type": "code",
   "execution_count": 30,
   "metadata": {},
   "outputs": [
    {
     "name": "stdout",
     "output_type": "stream",
     "text": [
      "Model: \"sequential_11\"\n",
      "_________________________________________________________________\n",
      " Layer (type)                Output Shape              Param #   \n",
      "=================================================================\n",
      " conv2d_32 (Conv2D)          (None, 28, 28, 32)        320       \n",
      "                                                                 \n",
      " max_pooling2d_32 (MaxPoolin  (None, 14, 14, 32)       0         \n",
      " g2D)                                                            \n",
      "                                                                 \n",
      " conv2d_33 (Conv2D)          (None, 14, 14, 64)        18496     \n",
      "                                                                 \n",
      " max_pooling2d_33 (MaxPoolin  (None, 7, 7, 64)         0         \n",
      " g2D)                                                            \n",
      "                                                                 \n",
      " dropout_11 (Dropout)        (None, 7, 7, 64)          0         \n",
      "                                                                 \n",
      " flatten_11 (Flatten)        (None, 3136)              0         \n",
      "                                                                 \n",
      " dense_32 (Dense)            (None, 128)               401536    \n",
      "                                                                 \n",
      " dense_33 (Dense)            (None, 10)                1290      \n",
      "                                                                 \n",
      "=================================================================\n",
      "Total params: 421,642\n",
      "Trainable params: 421,642\n",
      "Non-trainable params: 0\n",
      "_________________________________________________________________\n",
      "Epoch 1/20\n",
      "1875/1875 [==============================] - 45s 23ms/step - loss: 0.3970 - accuracy: 0.8550 - val_loss: 0.3194 - val_accuracy: 0.8807\n",
      "Epoch 2/20\n",
      "1875/1875 [==============================] - 46s 25ms/step - loss: 0.2771 - accuracy: 0.8967 - val_loss: 0.2673 - val_accuracy: 0.9012\n",
      "Epoch 3/20\n",
      "1875/1875 [==============================] - 45s 24ms/step - loss: 0.2320 - accuracy: 0.9141 - val_loss: 0.2483 - val_accuracy: 0.9118\n",
      "Epoch 4/20\n",
      "1875/1875 [==============================] - 48s 25ms/step - loss: 0.2058 - accuracy: 0.9235 - val_loss: 0.2433 - val_accuracy: 0.9122\n",
      "Epoch 5/20\n",
      "1875/1875 [==============================] - 54s 29ms/step - loss: 0.1829 - accuracy: 0.9315 - val_loss: 0.2320 - val_accuracy: 0.9179\n",
      "Epoch 6/20\n",
      "1875/1875 [==============================] - 56s 30ms/step - loss: 0.1661 - accuracy: 0.9376 - val_loss: 0.2224 - val_accuracy: 0.9221\n",
      "Epoch 7/20\n",
      "1875/1875 [==============================] - 56s 30ms/step - loss: 0.1482 - accuracy: 0.9430 - val_loss: 0.2377 - val_accuracy: 0.9182\n",
      "Epoch 8/20\n",
      "1875/1875 [==============================] - 55s 29ms/step - loss: 0.1354 - accuracy: 0.9473 - val_loss: 0.2645 - val_accuracy: 0.9093\n",
      "Epoch 9/20\n",
      "1875/1875 [==============================] - 56s 30ms/step - loss: 0.1217 - accuracy: 0.9534 - val_loss: 0.2544 - val_accuracy: 0.9229\n",
      "Epoch 10/20\n",
      "1875/1875 [==============================] - 65s 35ms/step - loss: 0.1128 - accuracy: 0.9567 - val_loss: 0.2571 - val_accuracy: 0.9238\n",
      "Epoch 11/20\n",
      "1875/1875 [==============================] - 61s 33ms/step - loss: 0.1025 - accuracy: 0.9597 - val_loss: 0.2592 - val_accuracy: 0.9232\n",
      "Epoch 12/20\n",
      "1875/1875 [==============================] - 63s 33ms/step - loss: 0.0964 - accuracy: 0.9643 - val_loss: 0.2766 - val_accuracy: 0.9250\n",
      "Epoch 13/20\n",
      "1875/1875 [==============================] - 67s 36ms/step - loss: 0.0903 - accuracy: 0.9658 - val_loss: 0.2740 - val_accuracy: 0.9226\n",
      "Epoch 14/20\n",
      "1875/1875 [==============================] - 62s 33ms/step - loss: 0.0825 - accuracy: 0.9686 - val_loss: 0.2754 - val_accuracy: 0.9230\n",
      "Epoch 15/20\n",
      "1875/1875 [==============================] - 65s 35ms/step - loss: 0.0798 - accuracy: 0.9701 - val_loss: 0.2815 - val_accuracy: 0.9205\n",
      "Epoch 16/20\n",
      "1875/1875 [==============================] - 68s 36ms/step - loss: 0.0749 - accuracy: 0.9714 - val_loss: 0.2911 - val_accuracy: 0.9238\n",
      "Epoch 17/20\n",
      "1875/1875 [==============================] - 63s 34ms/step - loss: 0.0706 - accuracy: 0.9732 - val_loss: 0.2962 - val_accuracy: 0.9232\n",
      "Epoch 18/20\n",
      "1875/1875 [==============================] - 62s 33ms/step - loss: 0.0657 - accuracy: 0.9748 - val_loss: 0.3306 - val_accuracy: 0.9214\n",
      "Epoch 19/20\n",
      "1875/1875 [==============================] - 68s 36ms/step - loss: 0.0624 - accuracy: 0.9769 - val_loss: 0.3609 - val_accuracy: 0.9213\n",
      "Epoch 20/20\n",
      "1875/1875 [==============================] - 61s 33ms/step - loss: 0.0607 - accuracy: 0.9773 - val_loss: 0.3420 - val_accuracy: 0.9244\n"
     ]
    }
   ],
   "source": [
    "model = keras.Sequential([\n",
    "    \n",
    "\n",
    "    # Adding 1st layer of 32 with kernel size of 3x3 keeping the padding 0 and activation function is relu\n",
    "    keras.layers.Conv2D(filters=32, \n",
    "                    kernel_size=(3, 3),\n",
    "                    padding= padding_size ,\n",
    "                    activation='relu',\n",
    "                    kernel_initializer = 'he_normal',\n",
    "                    input_shape=input_size),\n",
    "    # adding Maxpooling for 1st layer\n",
    "    keras.layers.MaxPooling2D(pool_size=(2, 2)),\n",
    "\n",
    "    # 2nd Conv layer 64 with kernel size of 3x3 keeping the padding 0 and activation function is relu\n",
    "    keras.layers.Conv2D(filters=64, \n",
    "                    kernel_size=(3, 3),\n",
    "                    padding= padding_size, \n",
    "                    activation='relu',\n",
    "                    kernel_initializer = 'he_normal'),\n",
    "    # adding Maxpooling for 2nd layer\n",
    "    keras.layers.MaxPooling2D(pool_size=(2, 2)),\n",
    "\n",
    "    # Adding Dropout to layers to avoid overfitting\n",
    "    keras.layers.Dropout(0.3),\n",
    "\n",
    "    ## flating the input array shape\n",
    "    keras.layers.Flatten(input_shape=(28,28)),\n",
    "    ## adding 1 dense layer of size 128\n",
    "    keras.layers.Dense(128, activation=tf.nn.relu),\n",
    "    ## adding 2 dense layer of size 64\n",
    "    keras.layers.Dense(64, activation=tf.nn.softmax)\n",
    "])\n",
    "model.summary() \n",
    "\n",
    "# Gradient Clipping\n",
    "optimizer_val = tf.keras.optimizers.Adam(lr = 0.001,beta_1 = 0.9,beta_2=0.999,clipnorm = 1.0)\n",
    "\n",
    "# Compile the model\n",
    "model.compile(optimizer=optimizer_val,\n",
    "              loss='sparse_categorical_crossentropy',\n",
    "              metrics=['accuracy'])\n",
    "\n",
    "## adding earlier stopping layer\n",
    "early_stopping_layer = keras.callbacks.EarlyStopping(patience=15)\n",
    "\n",
    "# fitting the complied model and checking accuracy of the model\n",
    "b_size = 32\n",
    "e_size =20\n",
    "\n",
    "model_val =model.fit(X_train, y_train,\n",
    "                    batch_size=b_size,\n",
    "                    epochs=e_size,\n",
    "                    callbacks=[early_stopping_layer],\n",
    "                    validation_data=(X_test, y_test))"
   ]
  },
  {
   "cell_type": "code",
   "execution_count": 31,
   "metadata": {},
   "outputs": [
    {
     "name": "stdout",
     "output_type": "stream",
     "text": [
      "313/313 [==============================] - 2s 6ms/step - loss: 0.3420 - accuracy: 0.9244\n",
      "test loss: 34.20157432556152\n",
      "Mtest accuracy: 92.43999719619751\n"
     ]
    }
   ],
   "source": [
    "test_loss, test_acc = model.evaluate(X_test, y_test)\n",
    "print(\"test loss:\", test_loss * 100)\n",
    "print(\"Mtest accuracy:\", test_acc * 100)"
   ]
  },
  {
   "cell_type": "code",
   "execution_count": 14,
   "metadata": {},
   "outputs": [
    {
     "data": {
      "text/plain": [
       "dict_keys(['loss', 'accuracy', 'val_loss', 'val_accuracy'])"
      ]
     },
     "execution_count": 14,
     "metadata": {},
     "output_type": "execute_result"
    }
   ],
   "source": [
    "model_val.history.keys()"
   ]
  },
  {
   "cell_type": "code",
   "execution_count": 15,
   "metadata": {},
   "outputs": [
    {
     "data": {
      "text/plain": [
       "<matplotlib.legend.Legend at 0x1c9270ab3d0>"
      ]
     },
     "execution_count": 15,
     "metadata": {},
     "output_type": "execute_result"
    },
    {
     "data": {
      "image/png": "[encoded data removed]",
      "text/plain": [
       "<Figure size 432x288 with 1 Axes>"
      ]
     },
     "metadata": {
      "needs_background": "light"
     },
     "output_type": "display_data"
    }
   ],
   "source": [
    "plt.plot(model_val.history['loss'], 'blue')\n",
    "plt.plot(model_val.history['val_loss'], 'orange')\n",
    "plt.title('train/test_loss ')\n",
    "plt.ylabel('loss')\n",
    "plt.xlabel('epoch')\n",
    "plt.legend(['Train_loss', 'test_loss'], loc='upper right')"
   ]
  },
  {
   "cell_type": "code",
   "execution_count": 16,
   "metadata": {},
   "outputs": [
    {
     "data": {
      "text/plain": [
       "<matplotlib.legend.Legend at 0x1c92703d120>"
      ]
     },
     "execution_count": 16,
     "metadata": {},
     "output_type": "execute_result"
    },
    {
     "data": {
      "image/png": "[encoded data removed]",
      "text/plain": [
       "<Figure size 432x288 with 1 Axes>"
      ]
     },
     "metadata": {
      "needs_background": "light"
     },
     "output_type": "display_data"
    }
   ],
   "source": [
    "plt.plot(model_val.history['accuracy'], 'blue')\n",
    "plt.plot(model_val.history['val_accuracy'], 'orange')\n",
    "plt.title('train/test accuracy')\n",
    "plt.ylabel('accuracy')\n",
    "plt.xlabel('epoch')\n",
    "plt.legend(['train_accuracy', 'test_accuracy'], loc='lower right')"
   ]
  },
  {
   "cell_type": "markdown",
   "metadata": {},
   "source": [
    "Part 4"
   ]
  },
  {
   "cell_type": "code",
   "execution_count": 26,
   "metadata": {},
   "outputs": [
    {
     "name": "stdout",
     "output_type": "stream",
     "text": [
      "Model: \"sequential_10\"\n",
      "_________________________________________________________________\n",
      " Layer (type)                Output Shape              Param #   \n",
      "=================================================================\n",
      " conv2d_29 (Conv2D)          (None, 28, 28, 32)        320       \n",
      "                                                                 \n",
      " max_pooling2d_29 (MaxPoolin  (None, 14, 14, 32)       0         \n",
      " g2D)                                                            \n",
      "                                                                 \n",
      " conv2d_30 (Conv2D)          (None, 14, 14, 64)        18496     \n",
      "                                                                 \n",
      " max_pooling2d_30 (MaxPoolin  (None, 7, 7, 64)         0         \n",
      " g2D)                                                            \n",
      "                                                                 \n",
      " conv2d_31 (Conv2D)          (None, 7, 7, 64)          36928     \n",
      "                                                                 \n",
      " max_pooling2d_31 (MaxPoolin  (None, 3, 3, 64)         0         \n",
      " g2D)                                                            \n",
      "                                                                 \n",
      " dropout_10 (Dropout)        (None, 3, 3, 64)          0         \n",
      "                                                                 \n",
      " flatten_10 (Flatten)        (None, 576)               0         \n",
      "                                                                 \n",
      " dense_29 (Dense)            (None, 256)               147712    \n",
      "                                                                 \n",
      " dense_30 (Dense)            (None, 128)               32896     \n",
      "                                                                 \n",
      " dense_31 (Dense)            (None, 10)                1290      \n",
      "                                                                 \n",
      "=================================================================\n",
      "Total params: 237,642\n",
      "Trainable params: 237,642\n",
      "Non-trainable params: 0\n",
      "_________________________________________________________________\n",
      "Epoch 1/10\n",
      "1875/1875 [==============================] - 51s 27ms/step - loss: 0.4679 - accuracy: 0.8273 - val_loss: 0.3525 - val_accuracy: 0.8663\n",
      "Epoch 2/10\n",
      "1875/1875 [==============================] - 58s 31ms/step - loss: 0.3029 - accuracy: 0.8881 - val_loss: 0.2705 - val_accuracy: 0.8990\n",
      "Epoch 3/10\n",
      "1875/1875 [==============================] - 58s 31ms/step - loss: 0.2627 - accuracy: 0.9023 - val_loss: 0.2710 - val_accuracy: 0.9003\n",
      "Epoch 4/10\n",
      "1875/1875 [==============================] - 63s 34ms/step - loss: 0.2353 - accuracy: 0.9121 - val_loss: 0.2441 - val_accuracy: 0.9117\n",
      "Epoch 5/10\n",
      "1875/1875 [==============================] - 65s 34ms/step - loss: 0.2137 - accuracy: 0.9187 - val_loss: 0.2324 - val_accuracy: 0.9158\n",
      "Epoch 6/10\n",
      "1875/1875 [==============================] - 68s 36ms/step - loss: 0.1988 - accuracy: 0.9260 - val_loss: 0.2374 - val_accuracy: 0.9137\n",
      "Epoch 7/10\n",
      "1875/1875 [==============================] - 75s 40ms/step - loss: 0.1875 - accuracy: 0.9297 - val_loss: 0.2343 - val_accuracy: 0.9160\n",
      "Epoch 8/10\n",
      "1875/1875 [==============================] - 77s 41ms/step - loss: 0.1755 - accuracy: 0.9334 - val_loss: 0.2307 - val_accuracy: 0.9170\n",
      "Epoch 9/10\n",
      "1875/1875 [==============================] - 77s 41ms/step - loss: 0.1627 - accuracy: 0.9395 - val_loss: 0.2306 - val_accuracy: 0.9213\n",
      "Epoch 10/10\n",
      "1875/1875 [==============================] - 77s 41ms/step - loss: 0.1550 - accuracy: 0.9414 - val_loss: 0.2366 - val_accuracy: 0.9174\n"
     ]
    },
    {
     "data": {
      "text/plain": [
       "<matplotlib.legend.Legend at 0x1c927aa0a90>"
      ]
     },
     "execution_count": 26,
     "metadata": {},
     "output_type": "execute_result"
    },
    {
     "data": {
      "image/png": "[encoded data removed]",
      "text/plain": [
       "<Figure size 432x288 with 1 Axes>"
      ]
     },
     "metadata": {
      "needs_background": "light"
     },
     "output_type": "display_data"
    }
   ],
   "source": [
    "## Changing dropout value\n",
    "# droupout_val = 0.2\n",
    "droupout_val = 0.25\n",
    "# droupout_val = 0.3\n",
    "\n",
    "## Changing activation function\n",
    "activation_val = \"relu\"\n",
    "# activation_val = \"softmax\"\n",
    "# activation_val = \"sigmoid\"\n",
    "\n",
    "model = keras.Sequential([\n",
    "    \n",
    "    # Adding 1st layer of 32 with kernel size of 3x3 keeping the padding 0 and activation function is relu\n",
    "    keras.layers.Conv2D(filters=32, \n",
    "                    kernel_size=(3, 3),\n",
    "                    padding='same',\n",
    "                    activation=activation_val,\n",
    "                    kernel_initializer = 'he_normal',\n",
    "                    input_shape=(28, 28, 1)),\n",
    "    # adding Maxpooling for 1st layer\n",
    "    keras.layers.MaxPooling2D(pool_size=(2, 2)),\n",
    "\n",
    "    # 2nd Conv layer 64 with kernel size of 3x3 keeping the padding 0 and activation function is relu\n",
    "    keras.layers.Conv2D(filters=64, \n",
    "                    kernel_size=(3, 3),\n",
    "                    padding='same', \n",
    "                    activation=activation_val,\n",
    "                    kernel_initializer = 'he_normal'),\n",
    "    # adding Maxpooling for 2 layer\n",
    "    keras.layers.MaxPooling2D(pool_size=(2, 2)),\n",
    "\n",
    "    # 3rd Conv layer 64 with kernel size of 3x3 keeping the padding 0 and activation function is relu\n",
    "    keras.layers.Conv2D(filters=64, \n",
    "                    kernel_size=(3, 3),\n",
    "                    padding='same', \n",
    "                    activation=activation_val,\n",
    "                    kernel_initializer = 'he_normal'),\n",
    "    # adding Maxpooling for 3 layer\n",
    "    keras.layers.MaxPooling2D(pool_size=(2, 2)),\n",
    "\n",
    "    # Adding Dropout to layers to avoid overfitting\n",
    "    keras.layers.Dropout(droupout_val),\n",
    "    ## flating the input array shape\n",
    "    keras.layers.Flatten(input_shape=(28,28)),\n",
    "    ## adding 1 dense layer of size 256\n",
    "    keras.layers.Dense(256, activation=tf.nn.relu),\n",
    "    ## adding 2 dense layer of size 128\n",
    "    keras.layers.Dense(128, activation=tf.nn.relu),\n",
    "    ## adding 3 dense layer of size 10\n",
    "    keras.layers.Dense(10, activation=tf.nn.softmax)\n",
    "])\n",
    "model.summary() \n",
    "\n",
    "# Gradient Clipping\n",
    "\n",
    "# optimizer_val = tf.keras.optimizers.SGD(lr = 0.01,clipnorm = 1.0)\n",
    "optimizer_val = tf.keras.optimizers.Adam(lr = 0.001,beta_1 = 0.9,beta_2=0.999,clipnorm = 1.0)\n",
    "# optimizer_val =  tf.keras.optimizers.RMSprop(lr = 0.001,rho = 0.90,clipnorm = 1.0)\n",
    "\n",
    "# Step 2 - Compile the model\n",
    "model.compile(optimizer=optimizer_val,\n",
    "              loss='sparse_categorical_crossentropy',\n",
    "              metrics=['accuracy'])\n",
    "## earlystopping\n",
    "early_stopping_layer = keras.callbacks.EarlyStopping(patience=5)\n",
    "\n",
    "model_val =model.fit(X_train, y_train,\n",
    "                    batch_size=32,\n",
    "                    epochs=10,\n",
    "                    callbacks=[early_stopping_layer],\n",
    "                    \n",
    "                    validation_data=(X_test, y_test))\n",
    "\n",
    "## plot for train and test accuracy\n",
    "plt.plot(model_val.history['accuracy'], 'blue')\n",
    "plt.plot(model_val.history['val_accuracy'], 'orange')\n",
    "plt.title('train/test accuracy')\n",
    "plt.ylabel('accuracy')\n",
    "plt.xlabel('epoch')\n",
    "plt.legend(['train_accuracy', 'test_accuracy'], loc='lower right')"
   ]
  },
  {
   "cell_type": "code",
   "execution_count": null,
   "metadata": {},
   "outputs": [],
   "source": []
  }
 ],
 "metadata": {
  "interpreter": {
   "hash": "9117988b636f6203e48b6cdf524ce8b0ada22f83b0f2215430d934faafe77b3e"
  },
  "kernelspec": {
   "display_name": "Python 3 (ipykernel)",
   "language": "python",
   "name": "python3"
  },
  "language_info": {
   "codemirror_mode": {
    "name": "ipython",
    "version": 3
   },
   "file_extension": ".py",
   "mimetype": "text/x-python",
   "name": "python",
   "nbconvert_exporter": "python",
   "pygments_lexer": "ipython3",
   "version": "3.9.13"
  }
 },
 "nbformat": 4,
 "nbformat_minor": 2
}
