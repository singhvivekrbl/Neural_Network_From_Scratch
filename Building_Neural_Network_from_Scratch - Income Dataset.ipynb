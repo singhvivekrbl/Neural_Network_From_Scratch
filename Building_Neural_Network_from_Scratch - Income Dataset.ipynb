{
 "cells": [
  {
   "cell_type": "code",
   "execution_count": 1,
   "id": "70d327ac",
   "metadata": {},
   "outputs": [],
   "source": [
    "#import libraries\n",
    "import numpy as np\n",
    "import pandas as pd\n",
    "\n",
    "## Visualization\n",
    "import matplotlib.pyplot as plt \n",
    "\n",
    "## ignoring warnings\n",
    "import sys\n",
    "import warnings\n",
    "if not sys.warnoptions:\n",
    "    warnings.simplefilter(\"ignore\")\n",
    "\n",
    "## Import scikit_learn module \n",
    "from sklearn.model_selection import train_test_split\n",
    "\n",
    "## import pytorch libraries\n",
    "import torch\n",
    "import torch.nn as nn"
   ]
  },
  {
   "cell_type": "markdown",
   "id": "f8f62199",
   "metadata": {},
   "source": [
    "## Step 1: Data Preprocessing"
   ]
  },
  {
   "cell_type": "code",
   "execution_count": 2,
   "id": "cd7462d2",
   "metadata": {},
   "outputs": [
    {
     "data": {
      "text/html": [
       "<div>\n",
       "<style scoped>\n",
       "    .dataframe tbody tr th:only-of-type {\n",
       "        vertical-align: middle;\n",
       "    }\n",
       "\n",
       "    .dataframe tbody tr th {\n",
       "        vertical-align: top;\n",
       "    }\n",
       "\n",
       "    .dataframe thead th {\n",
       "        text-align: right;\n",
       "    }\n",
       "</style>\n",
       "<table border=\"1\" class=\"dataframe\">\n",
       "  <thead>\n",
       "    <tr style=\"text-align: right;\">\n",
       "      <th></th>\n",
       "      <th>age</th>\n",
       "      <th>workclass</th>\n",
       "      <th>fnlwgt</th>\n",
       "      <th>education</th>\n",
       "      <th>education.num</th>\n",
       "      <th>marital.status</th>\n",
       "      <th>occupation</th>\n",
       "      <th>relationship</th>\n",
       "      <th>race</th>\n",
       "      <th>sex</th>\n",
       "      <th>capital.gain</th>\n",
       "      <th>capital.loss</th>\n",
       "      <th>hours.per.week</th>\n",
       "      <th>native.country</th>\n",
       "      <th>income</th>\n",
       "    </tr>\n",
       "  </thead>\n",
       "  <tbody>\n",
       "    <tr>\n",
       "      <th>0</th>\n",
       "      <td>90</td>\n",
       "      <td>?</td>\n",
       "      <td>77053</td>\n",
       "      <td>HS-grad</td>\n",
       "      <td>9</td>\n",
       "      <td>Widowed</td>\n",
       "      <td>?</td>\n",
       "      <td>Not-in-family</td>\n",
       "      <td>White</td>\n",
       "      <td>Female</td>\n",
       "      <td>0</td>\n",
       "      <td>4356</td>\n",
       "      <td>40</td>\n",
       "      <td>United-States</td>\n",
       "      <td>&lt;=50K</td>\n",
       "    </tr>\n",
       "    <tr>\n",
       "      <th>1</th>\n",
       "      <td>82</td>\n",
       "      <td>Private</td>\n",
       "      <td>132870</td>\n",
       "      <td>HS-grad</td>\n",
       "      <td>9</td>\n",
       "      <td>Widowed</td>\n",
       "      <td>Exec-managerial</td>\n",
       "      <td>Not-in-family</td>\n",
       "      <td>White</td>\n",
       "      <td>Female</td>\n",
       "      <td>0</td>\n",
       "      <td>4356</td>\n",
       "      <td>18</td>\n",
       "      <td>United-States</td>\n",
       "      <td>&lt;=50K</td>\n",
       "    </tr>\n",
       "    <tr>\n",
       "      <th>2</th>\n",
       "      <td>66</td>\n",
       "      <td>?</td>\n",
       "      <td>186061</td>\n",
       "      <td>Some-college</td>\n",
       "      <td>10</td>\n",
       "      <td>Widowed</td>\n",
       "      <td>?</td>\n",
       "      <td>Unmarried</td>\n",
       "      <td>Black</td>\n",
       "      <td>Female</td>\n",
       "      <td>0</td>\n",
       "      <td>4356</td>\n",
       "      <td>40</td>\n",
       "      <td>United-States</td>\n",
       "      <td>&lt;=50K</td>\n",
       "    </tr>\n",
       "    <tr>\n",
       "      <th>3</th>\n",
       "      <td>54</td>\n",
       "      <td>Private</td>\n",
       "      <td>140359</td>\n",
       "      <td>7th-8th</td>\n",
       "      <td>4</td>\n",
       "      <td>Divorced</td>\n",
       "      <td>Machine-op-inspct</td>\n",
       "      <td>Unmarried</td>\n",
       "      <td>White</td>\n",
       "      <td>Female</td>\n",
       "      <td>0</td>\n",
       "      <td>3900</td>\n",
       "      <td>40</td>\n",
       "      <td>United-States</td>\n",
       "      <td>&lt;=50K</td>\n",
       "    </tr>\n",
       "    <tr>\n",
       "      <th>4</th>\n",
       "      <td>41</td>\n",
       "      <td>Private</td>\n",
       "      <td>264663</td>\n",
       "      <td>Some-college</td>\n",
       "      <td>10</td>\n",
       "      <td>Separated</td>\n",
       "      <td>Prof-specialty</td>\n",
       "      <td>Own-child</td>\n",
       "      <td>White</td>\n",
       "      <td>Female</td>\n",
       "      <td>0</td>\n",
       "      <td>3900</td>\n",
       "      <td>40</td>\n",
       "      <td>United-States</td>\n",
       "      <td>&lt;=50K</td>\n",
       "    </tr>\n",
       "  </tbody>\n",
       "</table>\n",
       "</div>"
      ],
      "text/plain": [
       "   age workclass  fnlwgt     education  education.num marital.status  \\\n",
       "0   90         ?   77053       HS-grad              9        Widowed   \n",
       "1   82   Private  132870       HS-grad              9        Widowed   \n",
       "2   66         ?  186061  Some-college             10        Widowed   \n",
       "3   54   Private  140359       7th-8th              4       Divorced   \n",
       "4   41   Private  264663  Some-college             10      Separated   \n",
       "\n",
       "          occupation   relationship   race     sex  capital.gain  \\\n",
       "0                  ?  Not-in-family  White  Female             0   \n",
       "1    Exec-managerial  Not-in-family  White  Female             0   \n",
       "2                  ?      Unmarried  Black  Female             0   \n",
       "3  Machine-op-inspct      Unmarried  White  Female             0   \n",
       "4     Prof-specialty      Own-child  White  Female             0   \n",
       "\n",
       "   capital.loss  hours.per.week native.country income  \n",
       "0          4356              40  United-States  <=50K  \n",
       "1          4356              18  United-States  <=50K  \n",
       "2          4356              40  United-States  <=50K  \n",
       "3          3900              40  United-States  <=50K  \n",
       "4          3900              40  United-States  <=50K  "
      ]
     },
     "execution_count": 2,
     "metadata": {},
     "output_type": "execute_result"
    }
   ],
   "source": [
    "df = pd.read_csv(\"income_dataset.csv\")\n",
    "df.head()"
   ]
  },
  {
   "cell_type": "code",
   "execution_count": 3,
   "id": "43e2523a",
   "metadata": {},
   "outputs": [
    {
     "data": {
      "text/html": [
       "<div>\n",
       "<style scoped>\n",
       "    .dataframe tbody tr th:only-of-type {\n",
       "        vertical-align: middle;\n",
       "    }\n",
       "\n",
       "    .dataframe tbody tr th {\n",
       "        vertical-align: top;\n",
       "    }\n",
       "\n",
       "    .dataframe thead th {\n",
       "        text-align: right;\n",
       "    }\n",
       "</style>\n",
       "<table border=\"1\" class=\"dataframe\">\n",
       "  <thead>\n",
       "    <tr style=\"text-align: right;\">\n",
       "      <th></th>\n",
       "      <th>age</th>\n",
       "      <th>fnlwgt</th>\n",
       "      <th>education.num</th>\n",
       "      <th>capital.gain</th>\n",
       "      <th>capital.loss</th>\n",
       "      <th>hours.per.week</th>\n",
       "    </tr>\n",
       "  </thead>\n",
       "  <tbody>\n",
       "    <tr>\n",
       "      <th>count</th>\n",
       "      <td>32561.000000</td>\n",
       "      <td>3.256100e+04</td>\n",
       "      <td>32561.000000</td>\n",
       "      <td>32561.000000</td>\n",
       "      <td>32561.000000</td>\n",
       "      <td>32561.000000</td>\n",
       "    </tr>\n",
       "    <tr>\n",
       "      <th>mean</th>\n",
       "      <td>38.581647</td>\n",
       "      <td>1.897784e+05</td>\n",
       "      <td>10.080679</td>\n",
       "      <td>1077.648844</td>\n",
       "      <td>87.303830</td>\n",
       "      <td>40.437456</td>\n",
       "    </tr>\n",
       "    <tr>\n",
       "      <th>std</th>\n",
       "      <td>13.640433</td>\n",
       "      <td>1.055500e+05</td>\n",
       "      <td>2.572720</td>\n",
       "      <td>7385.292085</td>\n",
       "      <td>402.960219</td>\n",
       "      <td>12.347429</td>\n",
       "    </tr>\n",
       "    <tr>\n",
       "      <th>min</th>\n",
       "      <td>17.000000</td>\n",
       "      <td>1.228500e+04</td>\n",
       "      <td>1.000000</td>\n",
       "      <td>0.000000</td>\n",
       "      <td>0.000000</td>\n",
       "      <td>1.000000</td>\n",
       "    </tr>\n",
       "    <tr>\n",
       "      <th>25%</th>\n",
       "      <td>28.000000</td>\n",
       "      <td>1.178270e+05</td>\n",
       "      <td>9.000000</td>\n",
       "      <td>0.000000</td>\n",
       "      <td>0.000000</td>\n",
       "      <td>40.000000</td>\n",
       "    </tr>\n",
       "    <tr>\n",
       "      <th>50%</th>\n",
       "      <td>37.000000</td>\n",
       "      <td>1.783560e+05</td>\n",
       "      <td>10.000000</td>\n",
       "      <td>0.000000</td>\n",
       "      <td>0.000000</td>\n",
       "      <td>40.000000</td>\n",
       "    </tr>\n",
       "    <tr>\n",
       "      <th>75%</th>\n",
       "      <td>48.000000</td>\n",
       "      <td>2.370510e+05</td>\n",
       "      <td>12.000000</td>\n",
       "      <td>0.000000</td>\n",
       "      <td>0.000000</td>\n",
       "      <td>45.000000</td>\n",
       "    </tr>\n",
       "    <tr>\n",
       "      <th>max</th>\n",
       "      <td>90.000000</td>\n",
       "      <td>1.484705e+06</td>\n",
       "      <td>16.000000</td>\n",
       "      <td>99999.000000</td>\n",
       "      <td>4356.000000</td>\n",
       "      <td>99.000000</td>\n",
       "    </tr>\n",
       "  </tbody>\n",
       "</table>\n",
       "</div>"
      ],
      "text/plain": [
       "                age        fnlwgt  education.num  capital.gain  capital.loss  \\\n",
       "count  32561.000000  3.256100e+04   32561.000000  32561.000000  32561.000000   \n",
       "mean      38.581647  1.897784e+05      10.080679   1077.648844     87.303830   \n",
       "std       13.640433  1.055500e+05       2.572720   7385.292085    402.960219   \n",
       "min       17.000000  1.228500e+04       1.000000      0.000000      0.000000   \n",
       "25%       28.000000  1.178270e+05       9.000000      0.000000      0.000000   \n",
       "50%       37.000000  1.783560e+05      10.000000      0.000000      0.000000   \n",
       "75%       48.000000  2.370510e+05      12.000000      0.000000      0.000000   \n",
       "max       90.000000  1.484705e+06      16.000000  99999.000000   4356.000000   \n",
       "\n",
       "       hours.per.week  \n",
       "count    32561.000000  \n",
       "mean        40.437456  \n",
       "std         12.347429  \n",
       "min          1.000000  \n",
       "25%         40.000000  \n",
       "50%         40.000000  \n",
       "75%         45.000000  \n",
       "max         99.000000  "
      ]
     },
     "execution_count": 3,
     "metadata": {},
     "output_type": "execute_result"
    }
   ],
   "source": [
    "df.describe()"
   ]
  },
  {
   "cell_type": "markdown",
   "id": "5bdd76cb",
   "metadata": {},
   "source": [
    "#### Shape of data"
   ]
  },
  {
   "cell_type": "code",
   "execution_count": 4,
   "id": "c37e478c",
   "metadata": {},
   "outputs": [
    {
     "name": "stdout",
     "output_type": "stream",
     "text": [
      "Shape of data is:\n",
      " (32561, 15)\n",
      "\n",
      "****************************************************\n",
      "\n",
      "<class 'pandas.core.frame.DataFrame'>\n",
      "RangeIndex: 32561 entries, 0 to 32560\n",
      "Data columns (total 15 columns):\n",
      " #   Column          Non-Null Count  Dtype \n",
      "---  ------          --------------  ----- \n",
      " 0   age             32561 non-null  int64 \n",
      " 1   workclass       32561 non-null  object\n",
      " 2   fnlwgt          32561 non-null  int64 \n",
      " 3   education       32561 non-null  object\n",
      " 4   education.num   32561 non-null  int64 \n",
      " 5   marital.status  32561 non-null  object\n",
      " 6   occupation      32561 non-null  object\n",
      " 7   relationship    32561 non-null  object\n",
      " 8   race            32561 non-null  object\n",
      " 9   sex             32561 non-null  object\n",
      " 10  capital.gain    32561 non-null  int64 \n",
      " 11  capital.loss    32561 non-null  int64 \n",
      " 12  hours.per.week  32561 non-null  int64 \n",
      " 13  native.country  32561 non-null  object\n",
      " 14  income          32561 non-null  object\n",
      "dtypes: int64(6), object(9)\n",
      "memory usage: 3.7+ MB\n",
      "Data Types in data:\n",
      " None\n",
      "\n",
      "****************************************************\n",
      "\n",
      "Total null value count:\n",
      " age               0\n",
      "workclass         0\n",
      "fnlwgt            0\n",
      "education         0\n",
      "education.num     0\n",
      "marital.status    0\n",
      "occupation        0\n",
      "relationship      0\n",
      "race              0\n",
      "sex               0\n",
      "capital.gain      0\n",
      "capital.loss      0\n",
      "hours.per.week    0\n",
      "native.country    0\n",
      "income            0\n",
      "dtype: int64\n"
     ]
    }
   ],
   "source": [
    "print(\"Shape of data is:\\n\",df.shape)\n",
    "print(\"\\n****************************************************\\n\")\n",
    "print(\"Data Types in data:\\n\",df.info())\n",
    "print(\"\\n****************************************************\\n\")\n",
    "print(\"Total null value count:\\n\",df.isna().sum())"
   ]
  },
  {
   "cell_type": "markdown",
   "id": "a5d3784a",
   "metadata": {},
   "source": [
    "### Creating the new dataset to where miscellaneous values are removed"
   ]
  },
  {
   "cell_type": "markdown",
   "id": "a63e64de",
   "metadata": {},
   "source": [
    "#### there some missing value in the data in the form of \"?\". So I have replaced it with nan"
   ]
  },
  {
   "cell_type": "code",
   "execution_count": 5,
   "id": "aeb92b36",
   "metadata": {},
   "outputs": [
    {
     "name": "stdout",
     "output_type": "stream",
     "text": [
      "total null value count age                  0\n",
      "workclass         1836\n",
      "fnlwgt               0\n",
      "education            0\n",
      "education.num        0\n",
      "marital.status       0\n",
      "occupation        1843\n",
      "relationship         0\n",
      "race                 0\n",
      "sex                  0\n",
      "capital.gain         0\n",
      "capital.loss         0\n",
      "hours.per.week       0\n",
      "native.country     583\n",
      "income               0\n",
      "dtype: int64\n",
      "\n",
      "****************************************************\n",
      "\n",
      "Old Shape of data is: (32561, 15) \n",
      "New Shape of data is: (30162, 15)\n"
     ]
    }
   ],
   "source": [
    "#df = df.replace({'?': np.nan})\n",
    "df_replace = df.replace({'?': np.nan})\n",
    "print(\"total null value count\",df_replace.isna().sum())\n",
    "print(\"\\n****************************************************\\n\")\n",
    "df1 = df_replace.dropna()\n",
    "print(\"Old Shape of data is:\", df.shape,\"\\nNew Shape of data is:\", df1.shape)"
   ]
  },
  {
   "cell_type": "code",
   "execution_count": null,
   "id": "8b120319",
   "metadata": {},
   "outputs": [],
   "source": []
  },
  {
   "cell_type": "markdown",
   "id": "14d84fc5",
   "metadata": {},
   "source": [
    "There are two classes in income attribute we considered:\n",
    "- ‘>50K’: minor class.\n",
    "- ‘<=50K’: major class."
   ]
  },
  {
   "cell_type": "code",
   "execution_count": 6,
   "id": "2ae75407",
   "metadata": {},
   "outputs": [
    {
     "name": "stdout",
     "output_type": "stream",
     "text": [
      "<=50K    22654\n",
      ">50K      7508\n",
      "Name: income, dtype: int64\n",
      "\n",
      "****************************************************\n",
      "\n",
      "majority population percentage is : 75.11 \n",
      "minority population percentage is : 24.89\n"
     ]
    }
   ],
   "source": [
    "print(df1['income'].value_counts())\n",
    "major,minor = df1['income'].value_counts()\n",
    "print(\"\\n****************************************************\\n\")\n",
    "total = len(df1['income'])\n",
    "print(\"majority population percentage is :\",round((major/total )*100,2),\"\\nminority population percentage is :\",round((minor/total )*100,2))"
   ]
  },
  {
   "cell_type": "code",
   "execution_count": 7,
   "id": "be2ffc4d",
   "metadata": {},
   "outputs": [
    {
     "data": {
      "text/plain": [
       "<AxesSubplot:ylabel='income'>"
      ]
     },
     "execution_count": 7,
     "metadata": {},
     "output_type": "execute_result"
    },
    {
     "data": {
      "image/png": "[encoded data removed]",
      "text/plain": [
       "<Figure size 432x288 with 1 Axes>"
      ]
     },
     "metadata": {},
     "output_type": "display_data"
    }
   ],
   "source": [
    "df['income'].value_counts().plot(kind='pie')"
   ]
  },
  {
   "cell_type": "markdown",
   "id": "d6081498",
   "metadata": {},
   "source": [
    "After checking the total precentage of each major and minor class i have found\n",
    "\n",
    "- ‘>50K’: minor class, approximately 25%.\n",
    "- ‘<=50K’: mazor class, approximately 75%.\n",
    "\n",
    "this shows the data is imbalance in nature as most of the part is contributing to \"<=50\""
   ]
  },
  {
   "cell_type": "code",
   "execution_count": 8,
   "id": "826964da",
   "metadata": {},
   "outputs": [
    {
     "data": {
      "text/plain": [
       "1    22654\n",
       "0     7508\n",
       "Name: income, dtype: int64"
      ]
     },
     "execution_count": 8,
     "metadata": {},
     "output_type": "execute_result"
    }
   ],
   "source": [
    "df1['income'] = np.where(df1['income'] == '<=50K',1,0)\n",
    "df1['income'].value_counts()"
   ]
  },
  {
   "cell_type": "markdown",
   "id": "d880fcdf",
   "metadata": {},
   "source": [
    "#### There are categorical variable which needs to be convert into numerical "
   ]
  },
  {
   "cell_type": "code",
   "execution_count": 9,
   "id": "95aa73eb",
   "metadata": {},
   "outputs": [],
   "source": [
    "from sklearn import preprocessing\n",
    "def label_encode_val(val):\n",
    "    label_encoder = preprocessing.LabelEncoder()\n",
    "    value = label_encoder.fit_transform(val)\n",
    "    return value\n",
    "\n",
    "df1['workclass']= label_encode_val(df1['workclass'])\n",
    "df1['marital.status']= label_encode_val(df1['marital.status'])\n",
    "df1['occupation']= label_encode_val(df1['occupation'])\n",
    "df1['relationship']= label_encode_val(df1['relationship'])\n",
    "df1['race']= label_encode_val(df1['race'])\n",
    "df1['sex']= label_encode_val(df1['sex'])\n",
    "#df1['sex'].unique()"
   ]
  },
  {
   "cell_type": "code",
   "execution_count": 10,
   "id": "9b50ec83",
   "metadata": {},
   "outputs": [
    {
     "name": "stdout",
     "output_type": "stream",
     "text": [
      "<class 'pandas.core.frame.DataFrame'>\n",
      "Int64Index: 30162 entries, 1 to 32560\n",
      "Data columns (total 15 columns):\n",
      " #   Column          Non-Null Count  Dtype \n",
      "---  ------          --------------  ----- \n",
      " 0   age             30162 non-null  int64 \n",
      " 1   workclass       30162 non-null  int32 \n",
      " 2   fnlwgt          30162 non-null  int64 \n",
      " 3   education       30162 non-null  object\n",
      " 4   education.num   30162 non-null  int64 \n",
      " 5   marital.status  30162 non-null  int32 \n",
      " 6   occupation      30162 non-null  int32 \n",
      " 7   relationship    30162 non-null  int32 \n",
      " 8   race            30162 non-null  int32 \n",
      " 9   sex             30162 non-null  int32 \n",
      " 10  capital.gain    30162 non-null  int64 \n",
      " 11  capital.loss    30162 non-null  int64 \n",
      " 12  hours.per.week  30162 non-null  int64 \n",
      " 13  native.country  30162 non-null  object\n",
      " 14  income          30162 non-null  int32 \n",
      "dtypes: int32(7), int64(6), object(2)\n",
      "memory usage: 2.9+ MB\n",
      "Data info after encoding:\n",
      " None\n",
      "\n",
      "****************************************************\n",
      "\n"
     ]
    },
    {
     "data": {
      "text/html": [
       "<div>\n",
       "<style scoped>\n",
       "    .dataframe tbody tr th:only-of-type {\n",
       "        vertical-align: middle;\n",
       "    }\n",
       "\n",
       "    .dataframe tbody tr th {\n",
       "        vertical-align: top;\n",
       "    }\n",
       "\n",
       "    .dataframe thead th {\n",
       "        text-align: right;\n",
       "    }\n",
       "</style>\n",
       "<table border=\"1\" class=\"dataframe\">\n",
       "  <thead>\n",
       "    <tr style=\"text-align: right;\">\n",
       "      <th></th>\n",
       "      <th>age</th>\n",
       "      <th>workclass</th>\n",
       "      <th>fnlwgt</th>\n",
       "      <th>education</th>\n",
       "      <th>education.num</th>\n",
       "      <th>marital.status</th>\n",
       "      <th>occupation</th>\n",
       "      <th>relationship</th>\n",
       "      <th>race</th>\n",
       "      <th>sex</th>\n",
       "      <th>capital.gain</th>\n",
       "      <th>capital.loss</th>\n",
       "      <th>hours.per.week</th>\n",
       "      <th>native.country</th>\n",
       "      <th>income</th>\n",
       "    </tr>\n",
       "  </thead>\n",
       "  <tbody>\n",
       "    <tr>\n",
       "      <th>1</th>\n",
       "      <td>82</td>\n",
       "      <td>2</td>\n",
       "      <td>132870</td>\n",
       "      <td>HS-grad</td>\n",
       "      <td>9</td>\n",
       "      <td>6</td>\n",
       "      <td>3</td>\n",
       "      <td>1</td>\n",
       "      <td>4</td>\n",
       "      <td>0</td>\n",
       "      <td>0</td>\n",
       "      <td>4356</td>\n",
       "      <td>18</td>\n",
       "      <td>United-States</td>\n",
       "      <td>1</td>\n",
       "    </tr>\n",
       "    <tr>\n",
       "      <th>3</th>\n",
       "      <td>54</td>\n",
       "      <td>2</td>\n",
       "      <td>140359</td>\n",
       "      <td>7th-8th</td>\n",
       "      <td>4</td>\n",
       "      <td>0</td>\n",
       "      <td>6</td>\n",
       "      <td>4</td>\n",
       "      <td>4</td>\n",
       "      <td>0</td>\n",
       "      <td>0</td>\n",
       "      <td>3900</td>\n",
       "      <td>40</td>\n",
       "      <td>United-States</td>\n",
       "      <td>1</td>\n",
       "    </tr>\n",
       "    <tr>\n",
       "      <th>4</th>\n",
       "      <td>41</td>\n",
       "      <td>2</td>\n",
       "      <td>264663</td>\n",
       "      <td>Some-college</td>\n",
       "      <td>10</td>\n",
       "      <td>5</td>\n",
       "      <td>9</td>\n",
       "      <td>3</td>\n",
       "      <td>4</td>\n",
       "      <td>0</td>\n",
       "      <td>0</td>\n",
       "      <td>3900</td>\n",
       "      <td>40</td>\n",
       "      <td>United-States</td>\n",
       "      <td>1</td>\n",
       "    </tr>\n",
       "    <tr>\n",
       "      <th>5</th>\n",
       "      <td>34</td>\n",
       "      <td>2</td>\n",
       "      <td>216864</td>\n",
       "      <td>HS-grad</td>\n",
       "      <td>9</td>\n",
       "      <td>0</td>\n",
       "      <td>7</td>\n",
       "      <td>4</td>\n",
       "      <td>4</td>\n",
       "      <td>0</td>\n",
       "      <td>0</td>\n",
       "      <td>3770</td>\n",
       "      <td>45</td>\n",
       "      <td>United-States</td>\n",
       "      <td>1</td>\n",
       "    </tr>\n",
       "    <tr>\n",
       "      <th>6</th>\n",
       "      <td>38</td>\n",
       "      <td>2</td>\n",
       "      <td>150601</td>\n",
       "      <td>10th</td>\n",
       "      <td>6</td>\n",
       "      <td>5</td>\n",
       "      <td>0</td>\n",
       "      <td>4</td>\n",
       "      <td>4</td>\n",
       "      <td>1</td>\n",
       "      <td>0</td>\n",
       "      <td>3770</td>\n",
       "      <td>40</td>\n",
       "      <td>United-States</td>\n",
       "      <td>1</td>\n",
       "    </tr>\n",
       "  </tbody>\n",
       "</table>\n",
       "</div>"
      ],
      "text/plain": [
       "   age  workclass  fnlwgt     education  education.num  marital.status  \\\n",
       "1   82          2  132870       HS-grad              9               6   \n",
       "3   54          2  140359       7th-8th              4               0   \n",
       "4   41          2  264663  Some-college             10               5   \n",
       "5   34          2  216864       HS-grad              9               0   \n",
       "6   38          2  150601          10th              6               5   \n",
       "\n",
       "   occupation  relationship  race  sex  capital.gain  capital.loss  \\\n",
       "1           3             1     4    0             0          4356   \n",
       "3           6             4     4    0             0          3900   \n",
       "4           9             3     4    0             0          3900   \n",
       "5           7             4     4    0             0          3770   \n",
       "6           0             4     4    1             0          3770   \n",
       "\n",
       "   hours.per.week native.country  income  \n",
       "1              18  United-States       1  \n",
       "3              40  United-States       1  \n",
       "4              40  United-States       1  \n",
       "5              45  United-States       1  \n",
       "6              40  United-States       1  "
      ]
     },
     "execution_count": 10,
     "metadata": {},
     "output_type": "execute_result"
    }
   ],
   "source": [
    "print(\"Data info after encoding:\\n\",df1.info())\n",
    "print(\"\\n****************************************************\\n\")\n",
    "df1.head(5)"
   ]
  },
  {
   "cell_type": "markdown",
   "id": "6532a0d7",
   "metadata": {},
   "source": [
    "### Creating visuals on income distribution:"
   ]
  },
  {
   "cell_type": "markdown",
   "id": "84507529",
   "metadata": {},
   "source": [
    "#### Country Wise"
   ]
  },
  {
   "cell_type": "code",
   "execution_count": 11,
   "id": "4f5da550",
   "metadata": {},
   "outputs": [
    {
     "data": {
      "image/png": "[encoded data removed]",
      "text/plain": [
       "<Figure size 1080x432 with 1 Axes>"
      ]
     },
     "metadata": {
      "needs_background": "light"
     },
     "output_type": "display_data"
    }
   ],
   "source": [
    "grouped_df = df.replace({'?': np.nan}).dropna()\n",
    "country = grouped_df.groupby('native.country')['income'].value_counts().unstack().reset_index()\n",
    "con_sorted= country.sort_values(['<=50K',\">50K\"])\n",
    "# s = con_sorted.head(10)\n",
    "\n",
    "# plt.figure(figsize=(6,10))\n",
    "# make bar plot with matplotlib\n",
    "# s.plot(x=\"native.country\", y=[\"<=50K\", \">50K\"], kind=\"bar\",figsize=(15,6))\n",
    "\n",
    "con_sorted.plot(x=\"native.country\", y=[\"<=50K\", \">50K\"], kind=\"bar\",figsize=(15,6))\n",
    "\n",
    "plt.xlabel(\"Country\", size=15)\n",
    "plt.ylabel(\"Income\", size=15)\n",
    "plt.title(\"Country wise income\", size=18)\n",
    "\n",
    "plt.show()"
   ]
  },
  {
   "cell_type": "markdown",
   "id": "0c39dd4f",
   "metadata": {},
   "source": [
    "#### Work Class Wise"
   ]
  },
  {
   "cell_type": "code",
   "execution_count": 12,
   "id": "11c7493a",
   "metadata": {},
   "outputs": [
    {
     "data": {
      "image/png": "[encoded data removed]",
      "text/plain": [
       "<Figure size 1080x432 with 1 Axes>"
      ]
     },
     "metadata": {
      "needs_background": "light"
     },
     "output_type": "display_data"
    }
   ],
   "source": [
    "workclass = grouped_df.groupby('workclass')['income'].value_counts().unstack().reset_index()\n",
    "work_sorted= workclass.sort_values(['<=50K',\">50K\"])\n",
    "\n",
    "# workclass.head()\n",
    "\n",
    "## plot\n",
    "work_sorted.plot(x=\"workclass\", y=[\"<=50K\", \">50K\"], kind=\"bar\",figsize=(15,6))\n",
    "\n",
    "plt.xlabel(\"workclass\", size=15)\n",
    "plt.ylabel(\"Income\", size=15)\n",
    "plt.title(\"workclass wise income\", size=18)\n",
    "\n",
    "plt.show()"
   ]
  },
  {
   "cell_type": "markdown",
   "id": "891f8f9a",
   "metadata": {},
   "source": [
    "#### Education wise"
   ]
  },
  {
   "cell_type": "code",
   "execution_count": 13,
   "id": "ca5d9128",
   "metadata": {},
   "outputs": [
    {
     "data": {
      "image/png": "[encoded data removed]",
      "text/plain": [
       "<Figure size 1080x432 with 1 Axes>"
      ]
     },
     "metadata": {
      "needs_background": "light"
     },
     "output_type": "display_data"
    }
   ],
   "source": [
    "education = grouped_df.groupby('education')['income'].value_counts().unstack().reset_index()\n",
    "education_sorted= education.sort_values(['<=50K',\">50K\"])\n",
    "## plot\n",
    "education_sorted.plot(x=\"education\", y=[\"<=50K\", \">50K\"], kind=\"bar\",figsize=(15,6))\n",
    "\n",
    "plt.xlabel(\"education\", size=15)\n",
    "plt.ylabel(\"Income\", size=15)\n",
    "plt.title(\"education wise income\", size=18)\n",
    "\n",
    "plt.show()"
   ]
  },
  {
   "cell_type": "markdown",
   "id": "a8ba14f0",
   "metadata": {},
   "source": [
    "#### Gender wise "
   ]
  },
  {
   "cell_type": "code",
   "execution_count": 14,
   "id": "8d1e3054",
   "metadata": {},
   "outputs": [
    {
     "data": {
      "image/png": "[encoded data removed]",
      "text/plain": [
       "<Figure size 1080x432 with 1 Axes>"
      ]
     },
     "metadata": {
      "needs_background": "light"
     },
     "output_type": "display_data"
    }
   ],
   "source": [
    "gender = grouped_df.groupby('sex')['income'].value_counts().unstack().reset_index()\n",
    "gender_sorted= gender.sort_values(['<=50K',\">50K\"])\n",
    "## plot\n",
    "gender_sorted.plot(x=\"sex\", y=[\"<=50K\", \">50K\"], kind=\"bar\",figsize=(15,6))\n",
    "\n",
    "plt.xlabel(\"gender\", size=15)\n",
    "plt.ylabel(\"Income\", size=15)\n",
    "plt.title(\"gender wise income\", size=18)\n",
    "\n",
    "plt.show()"
   ]
  },
  {
   "cell_type": "code",
   "execution_count": 15,
   "id": "3852db0b",
   "metadata": {},
   "outputs": [
    {
     "name": "stdout",
     "output_type": "stream",
     "text": [
      " Statistical analysis of data:                 age     workclass        fnlwgt  education.num  \\\n",
      "count  30162.000000  30162.000000  3.016200e+04   30162.000000   \n",
      "mean      38.437902      2.199324  1.897938e+05      10.121312   \n",
      "std       13.134665      0.953925  1.056530e+05       2.549995   \n",
      "min       17.000000      0.000000  1.376900e+04       1.000000   \n",
      "25%       28.000000      2.000000  1.176272e+05       9.000000   \n",
      "50%       37.000000      2.000000  1.784250e+05      10.000000   \n",
      "75%       47.000000      2.000000  2.376285e+05      13.000000   \n",
      "max       90.000000      6.000000  1.484705e+06      16.000000   \n",
      "\n",
      "       marital.status    occupation  relationship          race           sex  \\\n",
      "count    30162.000000  30162.000000  30162.000000  30162.000000  30162.000000   \n",
      "mean         2.580134      5.959850      1.418341      3.678602      0.675685   \n",
      "std          1.498016      4.029566      1.601338      0.834709      0.468126   \n",
      "min          0.000000      0.000000      0.000000      0.000000      0.000000   \n",
      "25%          2.000000      2.000000      0.000000      4.000000      0.000000   \n",
      "50%          2.000000      6.000000      1.000000      4.000000      1.000000   \n",
      "75%          4.000000      9.000000      3.000000      4.000000      1.000000   \n",
      "max          6.000000     13.000000      5.000000      4.000000      1.000000   \n",
      "\n",
      "       capital.gain  capital.loss  hours.per.week        income  \n",
      "count  30162.000000  30162.000000    30162.000000  30162.000000  \n",
      "mean    1092.007858     88.372489       40.931238      0.751078  \n",
      "std     7406.346497    404.298370       11.979984      0.432396  \n",
      "min        0.000000      0.000000        1.000000      0.000000  \n",
      "25%        0.000000      0.000000       40.000000      1.000000  \n",
      "50%        0.000000      0.000000       40.000000      1.000000  \n",
      "75%        0.000000      0.000000       45.000000      1.000000  \n",
      "max    99999.000000   4356.000000       99.000000      1.000000  \n"
     ]
    }
   ],
   "source": [
    "print(\" Statistical analysis of data:\", df1.describe())"
   ]
  },
  {
   "cell_type": "code",
   "execution_count": 16,
   "id": "b5f6e1c0",
   "metadata": {},
   "outputs": [
    {
     "data": {
      "text/plain": [
       "Index(['age', 'workclass', 'fnlwgt', 'education', 'education.num',\n",
       "       'marital.status', 'occupation', 'relationship', 'race', 'sex',\n",
       "       'capital.gain', 'capital.loss', 'hours.per.week', 'native.country',\n",
       "       'income'],\n",
       "      dtype='object')"
      ]
     },
     "execution_count": 16,
     "metadata": {},
     "output_type": "execute_result"
    }
   ],
   "source": [
    "df1.columns"
   ]
  },
  {
   "cell_type": "markdown",
   "id": "0b095a95",
   "metadata": {},
   "source": [
    "### Normalize the dataset"
   ]
  },
  {
   "cell_type": "code",
   "execution_count": 17,
   "id": "dc2af711",
   "metadata": {},
   "outputs": [],
   "source": [
    "data = df1.copy()"
   ]
  },
  {
   "cell_type": "code",
   "execution_count": 18,
   "id": "02cf9132",
   "metadata": {},
   "outputs": [
    {
     "data": {
      "text/html": [
       "<div>\n",
       "<style scoped>\n",
       "    .dataframe tbody tr th:only-of-type {\n",
       "        vertical-align: middle;\n",
       "    }\n",
       "\n",
       "    .dataframe tbody tr th {\n",
       "        vertical-align: top;\n",
       "    }\n",
       "\n",
       "    .dataframe thead th {\n",
       "        text-align: right;\n",
       "    }\n",
       "</style>\n",
       "<table border=\"1\" class=\"dataframe\">\n",
       "  <thead>\n",
       "    <tr style=\"text-align: right;\">\n",
       "      <th></th>\n",
       "      <th>age</th>\n",
       "      <th>workclass</th>\n",
       "      <th>fnlwgt</th>\n",
       "      <th>education</th>\n",
       "      <th>education.num</th>\n",
       "      <th>marital.status</th>\n",
       "      <th>occupation</th>\n",
       "      <th>relationship</th>\n",
       "      <th>race</th>\n",
       "      <th>sex</th>\n",
       "      <th>capital.gain</th>\n",
       "      <th>capital.loss</th>\n",
       "      <th>hours.per.week</th>\n",
       "      <th>native.country</th>\n",
       "      <th>income</th>\n",
       "    </tr>\n",
       "  </thead>\n",
       "  <tbody>\n",
       "    <tr>\n",
       "      <th>1</th>\n",
       "      <td>0.890411</td>\n",
       "      <td>2</td>\n",
       "      <td>132870</td>\n",
       "      <td>HS-grad</td>\n",
       "      <td>0.533333</td>\n",
       "      <td>6</td>\n",
       "      <td>3</td>\n",
       "      <td>1</td>\n",
       "      <td>4</td>\n",
       "      <td>0</td>\n",
       "      <td>0.0</td>\n",
       "      <td>1.000000</td>\n",
       "      <td>0.173469</td>\n",
       "      <td>United-States</td>\n",
       "      <td>1</td>\n",
       "    </tr>\n",
       "    <tr>\n",
       "      <th>3</th>\n",
       "      <td>0.506849</td>\n",
       "      <td>2</td>\n",
       "      <td>140359</td>\n",
       "      <td>7th-8th</td>\n",
       "      <td>0.200000</td>\n",
       "      <td>0</td>\n",
       "      <td>6</td>\n",
       "      <td>4</td>\n",
       "      <td>4</td>\n",
       "      <td>0</td>\n",
       "      <td>0.0</td>\n",
       "      <td>0.895317</td>\n",
       "      <td>0.397959</td>\n",
       "      <td>United-States</td>\n",
       "      <td>1</td>\n",
       "    </tr>\n",
       "    <tr>\n",
       "      <th>4</th>\n",
       "      <td>0.328767</td>\n",
       "      <td>2</td>\n",
       "      <td>264663</td>\n",
       "      <td>Some-college</td>\n",
       "      <td>0.600000</td>\n",
       "      <td>5</td>\n",
       "      <td>9</td>\n",
       "      <td>3</td>\n",
       "      <td>4</td>\n",
       "      <td>0</td>\n",
       "      <td>0.0</td>\n",
       "      <td>0.895317</td>\n",
       "      <td>0.397959</td>\n",
       "      <td>United-States</td>\n",
       "      <td>1</td>\n",
       "    </tr>\n",
       "    <tr>\n",
       "      <th>5</th>\n",
       "      <td>0.232877</td>\n",
       "      <td>2</td>\n",
       "      <td>216864</td>\n",
       "      <td>HS-grad</td>\n",
       "      <td>0.533333</td>\n",
       "      <td>0</td>\n",
       "      <td>7</td>\n",
       "      <td>4</td>\n",
       "      <td>4</td>\n",
       "      <td>0</td>\n",
       "      <td>0.0</td>\n",
       "      <td>0.865473</td>\n",
       "      <td>0.448980</td>\n",
       "      <td>United-States</td>\n",
       "      <td>1</td>\n",
       "    </tr>\n",
       "    <tr>\n",
       "      <th>6</th>\n",
       "      <td>0.287671</td>\n",
       "      <td>2</td>\n",
       "      <td>150601</td>\n",
       "      <td>10th</td>\n",
       "      <td>0.333333</td>\n",
       "      <td>5</td>\n",
       "      <td>0</td>\n",
       "      <td>4</td>\n",
       "      <td>4</td>\n",
       "      <td>1</td>\n",
       "      <td>0.0</td>\n",
       "      <td>0.865473</td>\n",
       "      <td>0.397959</td>\n",
       "      <td>United-States</td>\n",
       "      <td>1</td>\n",
       "    </tr>\n",
       "  </tbody>\n",
       "</table>\n",
       "</div>"
      ],
      "text/plain": [
       "        age  workclass  fnlwgt     education  education.num  marital.status  \\\n",
       "1  0.890411          2  132870       HS-grad       0.533333               6   \n",
       "3  0.506849          2  140359       7th-8th       0.200000               0   \n",
       "4  0.328767          2  264663  Some-college       0.600000               5   \n",
       "5  0.232877          2  216864       HS-grad       0.533333               0   \n",
       "6  0.287671          2  150601          10th       0.333333               5   \n",
       "\n",
       "   occupation  relationship  race  sex  capital.gain  capital.loss  \\\n",
       "1           3             1     4    0           0.0      1.000000   \n",
       "3           6             4     4    0           0.0      0.895317   \n",
       "4           9             3     4    0           0.0      0.895317   \n",
       "5           7             4     4    0           0.0      0.865473   \n",
       "6           0             4     4    1           0.0      0.865473   \n",
       "\n",
       "   hours.per.week native.country  income  \n",
       "1        0.173469  United-States       1  \n",
       "3        0.397959  United-States       1  \n",
       "4        0.397959  United-States       1  \n",
       "5        0.448980  United-States       1  \n",
       "6        0.397959  United-States       1  "
      ]
     },
     "execution_count": 18,
     "metadata": {},
     "output_type": "execute_result"
    }
   ],
   "source": [
    "def normalise_data(value):\n",
    "    min_val = min(value)\n",
    "    max_val = max(value)\n",
    "    norm_value = (value - min_val)/(max_val-min_val)\n",
    "    return norm_value\n",
    "\n",
    "data[\"age\"] = normalise_data(data['age'])\n",
    "data[\"education.num\"] = normalise_data(data['education.num'])\n",
    "data[\"capital.gain\"] = normalise_data(data['capital.gain'])\n",
    "data[\"capital.loss\"] = normalise_data(data['capital.loss'])\n",
    "data[\"hours.per.week\"] = normalise_data(data['hours.per.week'])\n",
    "data.head()"
   ]
  },
  {
   "cell_type": "code",
   "execution_count": null,
   "id": "fdbbc216",
   "metadata": {},
   "outputs": [],
   "source": []
  },
  {
   "cell_type": "markdown",
   "id": "a3c19bc2",
   "metadata": {},
   "source": [
    "### Imbalance Data"
   ]
  },
  {
   "cell_type": "code",
   "execution_count": 19,
   "id": "186d1608",
   "metadata": {},
   "outputs": [
    {
     "data": {
      "text/plain": [
       "1    22654\n",
       "0     7508\n",
       "Name: income, dtype: int64"
      ]
     },
     "execution_count": 19,
     "metadata": {},
     "output_type": "execute_result"
    }
   ],
   "source": [
    "data['income'].value_counts()"
   ]
  },
  {
   "cell_type": "code",
   "execution_count": 20,
   "id": "6d1a6c27",
   "metadata": {},
   "outputs": [],
   "source": [
    "from sklearn.utils import resample\n",
    "#create two different dataframe of majority and minority class \n",
    "df_majority = data[(data['income']==1)] \n",
    "df_minority = data[(data['income']==0)] \n",
    "# upsample minority class\n"
   ]
  },
  {
   "cell_type": "code",
   "execution_count": 21,
   "id": "b4cac17a",
   "metadata": {},
   "outputs": [
    {
     "name": "stdout",
     "output_type": "stream",
     "text": [
      "(22654, 15) (7508, 15)\n"
     ]
    }
   ],
   "source": [
    "print(df_majority.shape,df_minority.shape)"
   ]
  },
  {
   "cell_type": "code",
   "execution_count": 22,
   "id": "34f05856",
   "metadata": {},
   "outputs": [],
   "source": [
    "df_minority_upsampled = resample(df_minority, \n",
    "                                 replace=True,    # sample with replacement\n",
    "                                 n_samples= 22654, # to match majority class\n",
    "                                 random_state=42)  # reproducible results\n",
    "# Combine majority class with upsampled minority class\n",
    "df_upsampled = pd.concat([df_minority_upsampled, df_majority])"
   ]
  },
  {
   "cell_type": "code",
   "execution_count": 23,
   "id": "12c130b7",
   "metadata": {},
   "outputs": [
    {
     "data": {
      "text/plain": [
       "<AxesSubplot:ylabel='income'>"
      ]
     },
     "execution_count": 23,
     "metadata": {},
     "output_type": "execute_result"
    },
    {
     "data": {
      "image/png": "[encoded data removed]",
      "text/plain": [
       "<Figure size 432x288 with 1 Axes>"
      ]
     },
     "metadata": {},
     "output_type": "display_data"
    }
   ],
   "source": [
    "df_upsampled['income'].value_counts()\n",
    "df_upsampled['income'].value_counts().plot(kind='pie')"
   ]
  },
  {
   "cell_type": "markdown",
   "id": "2b4a2270",
   "metadata": {},
   "source": [
    "## Setting X and y values for our traing and test set"
   ]
  },
  {
   "cell_type": "code",
   "execution_count": 24,
   "id": "c8e056cf",
   "metadata": {},
   "outputs": [
    {
     "data": {
      "text/html": [
       "<div>\n",
       "<style scoped>\n",
       "    .dataframe tbody tr th:only-of-type {\n",
       "        vertical-align: middle;\n",
       "    }\n",
       "\n",
       "    .dataframe tbody tr th {\n",
       "        vertical-align: top;\n",
       "    }\n",
       "\n",
       "    .dataframe thead th {\n",
       "        text-align: right;\n",
       "    }\n",
       "</style>\n",
       "<table border=\"1\" class=\"dataframe\">\n",
       "  <thead>\n",
       "    <tr style=\"text-align: right;\">\n",
       "      <th></th>\n",
       "      <th>age</th>\n",
       "      <th>workclass</th>\n",
       "      <th>fnlwgt</th>\n",
       "      <th>education</th>\n",
       "      <th>education.num</th>\n",
       "      <th>marital.status</th>\n",
       "      <th>occupation</th>\n",
       "      <th>relationship</th>\n",
       "      <th>race</th>\n",
       "      <th>sex</th>\n",
       "      <th>capital.gain</th>\n",
       "      <th>capital.loss</th>\n",
       "      <th>hours.per.week</th>\n",
       "      <th>native.country</th>\n",
       "      <th>income</th>\n",
       "    </tr>\n",
       "  </thead>\n",
       "  <tbody>\n",
       "    <tr>\n",
       "      <th>1</th>\n",
       "      <td>0.890411</td>\n",
       "      <td>2</td>\n",
       "      <td>132870</td>\n",
       "      <td>HS-grad</td>\n",
       "      <td>0.533333</td>\n",
       "      <td>6</td>\n",
       "      <td>3</td>\n",
       "      <td>1</td>\n",
       "      <td>4</td>\n",
       "      <td>0</td>\n",
       "      <td>0.0</td>\n",
       "      <td>1.000000</td>\n",
       "      <td>0.173469</td>\n",
       "      <td>United-States</td>\n",
       "      <td>1</td>\n",
       "    </tr>\n",
       "    <tr>\n",
       "      <th>3</th>\n",
       "      <td>0.506849</td>\n",
       "      <td>2</td>\n",
       "      <td>140359</td>\n",
       "      <td>7th-8th</td>\n",
       "      <td>0.200000</td>\n",
       "      <td>0</td>\n",
       "      <td>6</td>\n",
       "      <td>4</td>\n",
       "      <td>4</td>\n",
       "      <td>0</td>\n",
       "      <td>0.0</td>\n",
       "      <td>0.895317</td>\n",
       "      <td>0.397959</td>\n",
       "      <td>United-States</td>\n",
       "      <td>1</td>\n",
       "    </tr>\n",
       "    <tr>\n",
       "      <th>4</th>\n",
       "      <td>0.328767</td>\n",
       "      <td>2</td>\n",
       "      <td>264663</td>\n",
       "      <td>Some-college</td>\n",
       "      <td>0.600000</td>\n",
       "      <td>5</td>\n",
       "      <td>9</td>\n",
       "      <td>3</td>\n",
       "      <td>4</td>\n",
       "      <td>0</td>\n",
       "      <td>0.0</td>\n",
       "      <td>0.895317</td>\n",
       "      <td>0.397959</td>\n",
       "      <td>United-States</td>\n",
       "      <td>1</td>\n",
       "    </tr>\n",
       "    <tr>\n",
       "      <th>5</th>\n",
       "      <td>0.232877</td>\n",
       "      <td>2</td>\n",
       "      <td>216864</td>\n",
       "      <td>HS-grad</td>\n",
       "      <td>0.533333</td>\n",
       "      <td>0</td>\n",
       "      <td>7</td>\n",
       "      <td>4</td>\n",
       "      <td>4</td>\n",
       "      <td>0</td>\n",
       "      <td>0.0</td>\n",
       "      <td>0.865473</td>\n",
       "      <td>0.448980</td>\n",
       "      <td>United-States</td>\n",
       "      <td>1</td>\n",
       "    </tr>\n",
       "    <tr>\n",
       "      <th>6</th>\n",
       "      <td>0.287671</td>\n",
       "      <td>2</td>\n",
       "      <td>150601</td>\n",
       "      <td>10th</td>\n",
       "      <td>0.333333</td>\n",
       "      <td>5</td>\n",
       "      <td>0</td>\n",
       "      <td>4</td>\n",
       "      <td>4</td>\n",
       "      <td>1</td>\n",
       "      <td>0.0</td>\n",
       "      <td>0.865473</td>\n",
       "      <td>0.397959</td>\n",
       "      <td>United-States</td>\n",
       "      <td>1</td>\n",
       "    </tr>\n",
       "  </tbody>\n",
       "</table>\n",
       "</div>"
      ],
      "text/plain": [
       "        age  workclass  fnlwgt     education  education.num  marital.status  \\\n",
       "1  0.890411          2  132870       HS-grad       0.533333               6   \n",
       "3  0.506849          2  140359       7th-8th       0.200000               0   \n",
       "4  0.328767          2  264663  Some-college       0.600000               5   \n",
       "5  0.232877          2  216864       HS-grad       0.533333               0   \n",
       "6  0.287671          2  150601          10th       0.333333               5   \n",
       "\n",
       "   occupation  relationship  race  sex  capital.gain  capital.loss  \\\n",
       "1           3             1     4    0           0.0      1.000000   \n",
       "3           6             4     4    0           0.0      0.895317   \n",
       "4           9             3     4    0           0.0      0.895317   \n",
       "5           7             4     4    0           0.0      0.865473   \n",
       "6           0             4     4    1           0.0      0.865473   \n",
       "\n",
       "   hours.per.week native.country  income  \n",
       "1        0.173469  United-States       1  \n",
       "3        0.397959  United-States       1  \n",
       "4        0.397959  United-States       1  \n",
       "5        0.448980  United-States       1  \n",
       "6        0.397959  United-States       1  "
      ]
     },
     "execution_count": 24,
     "metadata": {},
     "output_type": "execute_result"
    }
   ],
   "source": [
    "# df1 = df_upsampled.copy()\n",
    "df1 = data.copy()\n",
    "df1.head()"
   ]
  },
  {
   "cell_type": "code",
   "execution_count": 25,
   "id": "868be9dd",
   "metadata": {},
   "outputs": [],
   "source": [
    "y = df1['income'].values\n",
    "X = df1.drop(['fnlwgt','education','native.country','income'],axis=1).values\n"
   ]
  },
  {
   "cell_type": "code",
   "execution_count": 26,
   "id": "d4aa9f0a",
   "metadata": {},
   "outputs": [
    {
     "name": "stdout",
     "output_type": "stream",
     "text": [
      "(24129, 11) (6033, 11) (24129,) (6033,)\n"
     ]
    }
   ],
   "source": [
    "from sklearn.model_selection import train_test_split\n",
    "\n",
    "X_train, X_test, y_train, y_test = train_test_split(X, y, test_size=0.20, random_state=27)\n",
    "print(X_train.shape, X_test.shape, y_train.shape, y_test.shape)"
   ]
  },
  {
   "cell_type": "code",
   "execution_count": 27,
   "id": "35c63820",
   "metadata": {},
   "outputs": [],
   "source": [
    "## Converting np.array to tensors\n",
    "X_train = torch.FloatTensor(X_train)\n",
    "X_test = torch.FloatTensor(X_test)\n",
    "y_train = torch.LongTensor(y_train)\n",
    "y_test = torch.LongTensor(y_test)"
   ]
  },
  {
   "cell_type": "markdown",
   "id": "7a1f5dc9",
   "metadata": {},
   "source": [
    "### Intialising the neural network model"
   ]
  },
  {
   "cell_type": "code",
   "execution_count": 45,
   "id": "6bde75d1",
   "metadata": {},
   "outputs": [],
   "source": [
    "\n",
    "class Model(nn.Module):\n",
    "    ## Intializing hyperparameter\n",
    "    def __init__(self, input_features, hidden_layer1, hidden_layer2, output_features):\n",
    "        super(Model,self).__init__()\n",
    "        ## Layer 1 for NN\n",
    "        self.layer1 = nn.Linear(input_features,hidden_layer1) \n",
    "        \n",
    "        ## Layer 2 for NN\n",
    "        self.layer2 = nn.Linear(hidden_layer1, hidden_layer2)\n",
    "        \n",
    "        ## Out layer for NN\n",
    "        self.out_layer = nn.Linear(hidden_layer2, output_features)\n",
    "        \n",
    "        # Defining Activation Funtion to be used\n",
    "        self.relu = nn.ReLU()\n",
    "        self.softmax = nn.LogSoftmax(dim = 1) \n",
    "        \n",
    "    ## Intializing forward layer\n",
    "    def forward(self, x):\n",
    "        ## using Relu for first layer\n",
    "        x = self.layer1(x)\n",
    "        x = self.relu(x)\n",
    "        \n",
    "        ## using Relu for second layer\n",
    "        x = self.layer2(x)\n",
    "        x = self.relu(x)\n",
    "        \n",
    "         ## using softmax for output layer\n",
    "        x = self.out_layer(x)\n",
    "        x = self.softmax(x)\n",
    "\n",
    "        return x"
   ]
  },
  {
   "cell_type": "code",
   "execution_count": 46,
   "id": "89d85448",
   "metadata": {},
   "outputs": [],
   "source": [
    "input_features_dim=11\n",
    "hidden_layer1_dim=22\n",
    "hidden_layer2_dim=34\n",
    "output_features_dim=2\n",
    "\n",
    "model = Model(input_features_dim, hidden_layer1_dim, hidden_layer2_dim, output_features_dim)"
   ]
  },
  {
   "cell_type": "code",
   "execution_count": 47,
   "id": "196751ac",
   "metadata": {},
   "outputs": [],
   "source": [
    "initializer = nn.CrossEntropyLoss()\n",
    "optimizer = torch.optim.Adam(model.parameters(), lr=0.01)\n",
    "iter_val =100\n",
    "train_loss_list = np.zeros((iter_val,))\n",
    "train_accuracy_list = np.zeros((iter_val,))\n",
    "test_loss_list = np.zeros((iter_val,))\n",
    "test_accuracy_list = np.zeros((iter_val,))"
   ]
  },
  {
   "cell_type": "code",
   "execution_count": 48,
   "id": "11ce76f6",
   "metadata": {
    "scrolled": true
   },
   "outputs": [
    {
     "name": "stdout",
     "output_type": "stream",
     "text": [
      "Training Accuracy of our model is: 84.03 %\n"
     ]
    }
   ],
   "source": [
    "for i in range(iter_val):\n",
    "    ## passing X train value to forward layer of neural network\n",
    "    y_pred_val = model.forward(X_train)\n",
    "    ## Calculating cost\n",
    "    cost = initializer(y_pred_val, y_train)\n",
    "    train_loss_list[i] = cost.item()\n",
    "    \n",
    "    ##calling optimizer\n",
    "    optimizer.zero_grad()\n",
    "    ## updating weights using optimizer\n",
    "    cost.backward()\n",
    "    optimizer.step()\n",
    "    ### added torch no grade function to predict the values for train data\n",
    "    with torch.no_grad():\n",
    "        pred_val = model.forward(X_train)\n",
    "        correct_value = (torch.argmax(pred_val, dim=1) == y_train).type(torch.FloatTensor)\n",
    "        train_accuracy_list[i] = correct_value.mean()\n",
    "#         acc.append(accuracy_list)\n",
    "\n",
    "print(\"Training Accuracy of our model is:\", round(train_accuracy_list[99]*100,2),\"%\")"
   ]
  },
  {
   "cell_type": "code",
   "execution_count": 49,
   "id": "3f3d9df6",
   "metadata": {},
   "outputs": [
    {
     "name": "stdout",
     "output_type": "stream",
     "text": [
      "Training Accuracy of our model is: 84.03 %\n"
     ]
    }
   ],
   "source": [
    "print(\"Training Accuracy of our model is:\", round(train_accuracy_list[99]*100,2),\"%\")"
   ]
  },
  {
   "cell_type": "code",
   "execution_count": null,
   "id": "a2bbb2ef",
   "metadata": {},
   "outputs": [],
   "source": []
  },
  {
   "cell_type": "code",
   "execution_count": 50,
   "id": "3268cc40",
   "metadata": {
    "scrolled": true
   },
   "outputs": [],
   "source": [
    "for i in range(iter_val):\n",
    "    y_pred = model.forward(X_test)\n",
    "    loss = initializer(y_pred, y_test)\n",
    "    test_loss_list[i] = loss.item()\n",
    "#     losses.append(loss)\n",
    "    #print(f'epoch: {i:2}  loss: {loss.item():10.8f}')\n",
    "    \n",
    "    optimizer.zero_grad()\n",
    "    loss.backward()\n",
    "    optimizer.step()\n",
    "    \n",
    "    with torch.no_grad():\n",
    "        y_pred = model.forward(X_test)\n",
    "        correct = (torch.argmax(y_pred, dim=1) == y_test).type(torch.FloatTensor)\n",
    "        test_accuracy_list[i] = correct.mean()"
   ]
  },
  {
   "cell_type": "code",
   "execution_count": 51,
   "id": "97b968e5",
   "metadata": {
    "scrolled": true
   },
   "outputs": [
    {
     "name": "stdout",
     "output_type": "stream",
     "text": [
      "Test Accuracy of our model is: 84.27 %\n"
     ]
    }
   ],
   "source": [
    "print(\"Test Accuracy of our model is:\", round(test_accuracy_list[99]*100,2),\"%\")"
   ]
  },
  {
   "cell_type": "code",
   "execution_count": 52,
   "id": "bb8d9c15",
   "metadata": {},
   "outputs": [
    {
     "data": {
      "image/png": "[encoded data removed]",
      "text/plain": [
       "<Figure size 432x288 with 1 Axes>"
      ]
     },
     "metadata": {
      "needs_background": "light"
     },
     "output_type": "display_data"
    }
   ],
   "source": [
    "accuracy_list = list(zip (train_accuracy_list, test_accuracy_list))\n",
    "# dataf = pd.DataFrame(accuracy_list, columns = ['train_Accuracy', 'test_Accuracy'])\n",
    "\n",
    "import matplotlib.pyplot as plt\n",
    "plt.plot(accuracy_list)\n",
    "plt.title('Train and Test Accuracy model Plot')\n",
    "plt.ylabel('Accuracy')\n",
    "plt.xlabel('iterate count')\n",
    "plt.show()"
   ]
  },
  {
   "cell_type": "code",
   "execution_count": 53,
   "id": "2fb76ede",
   "metadata": {},
   "outputs": [
    {
     "data": {
      "image/png": "[encoded data removed]",
      "text/plain": [
       "<Figure size 432x288 with 1 Axes>"
      ]
     },
     "metadata": {
      "needs_background": "light"
     },
     "output_type": "display_data"
    }
   ],
   "source": [
    "loss_list = list(zip (train_loss_list,test_loss_list))\n",
    "# dataf = pd.DataFrame(accuracy_list, columns = ['train_Accuracy', 'test_Accuracy'])\n",
    "\n",
    "import matplotlib.pyplot as plt\n",
    "plt.plot(loss_list)\n",
    "plt.title('Loss model Plot')\n",
    "plt.ylabel('loss')\n",
    "plt.xlabel('iterate count')\n",
    "plt.show()"
   ]
  },
  {
   "cell_type": "code",
   "execution_count": null,
   "id": "e1d65cb9",
   "metadata": {},
   "outputs": [],
   "source": []
  },
  {
   "cell_type": "code",
   "execution_count": null,
   "id": "f4dcb5fe",
   "metadata": {},
   "outputs": [],
   "source": []
  }
 ],
 "metadata": {
  "kernelspec": {
   "display_name": "Python 3 (ipykernel)",
   "language": "python",
   "name": "python3"
  },
  "language_info": {
   "codemirror_mode": {
    "name": "ipython",
    "version": 3
   },
   "file_extension": ".py",
   "mimetype": "text/x-python",
   "name": "python",
   "nbconvert_exporter": "python",
   "pygments_lexer": "ipython3",
   "version": "3.9.13"
  }
 },
 "nbformat": 4,
 "nbformat_minor": 5
}
